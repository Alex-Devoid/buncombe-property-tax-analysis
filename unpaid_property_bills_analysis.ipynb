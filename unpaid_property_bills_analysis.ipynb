{
 "cells": [
  {
   "cell_type": "code",
   "execution_count": 639,
   "id": "722c73a8",
   "metadata": {},
   "outputs": [
    {
     "name": "stdout",
     "output_type": "stream",
     "text": [
      "Index(['PIN', 'Owner', 'NmpType', 'TaxYear', 'CondoUnit', 'CondoBuild',\n",
      "       'DeedBook', 'DeedPage', 'PlatBook', 'PlatPage', 'SubName', 'SubLot',\n",
      "       'SubBlock', 'SubSect', 'UpdateDate', 'HouseNumbe', 'NumberSuff',\n",
      "       'StreetName', 'StreetType', 'Township', 'Acreage', 'AccountNum',\n",
      "       'DeedDate', 'Stamps', 'Instrument', 'Reason', 'County', 'City',\n",
      "       'FireDistri', 'SchoolDist', 'CareOf', 'Address', 'CityName', 'State',\n",
      "       'Zipcode', 'Class', 'Improved', 'Exempt', 'Priced', 'TotalMarke',\n",
      "       'AppraisedV', 'TaxValue', 'LandUse', 'Neighborho', 'LandValue',\n",
      "       'BuildingVa', 'AppraisalA', 'PropCard', 'StreetPref', 'StreetPost',\n",
      "       'SalePrice', 'objectid', 'ESRI_OID', 'geometry'],\n",
      "      dtype='object')\n",
      "131856\n"
     ]
    },
    {
     "name": "stderr",
     "output_type": "stream",
     "text": [
      "/var/folders/hy/304lry6j4sbbkk4_rs_vfdw80000gn/T/ipykernel_57919/840337364.py:15: DtypeWarning: Columns (0) have mixed types. Specify dtype option on import or set low_memory=False.\n",
      "  appraisal_tax_history = pd.read_csv(zf.open('Real_Estate_Appraisal_Tax_History_2022.csv'))\n"
     ]
    },
    {
     "name": "stdout",
     "output_type": "stream",
     "text": [
      "2491791\n"
     ]
    }
   ],
   "source": [
    "import geopandas as gpd\n",
    "import pandas as pd\n",
    "pd.options.display.max_columns = None\n",
    "import statsmodels.api as sm\n",
    "import zipfile\n",
    "\n",
    "import numpy as np\n",
    "\n",
    "# read in the shapefile of buncome parcels\n",
    "parcels = gpd.read_file(\"./data/Buncombe_County_Parcels/Buncombe_County_Parcels.zip\") \n",
    "print(parcels.columns)\n",
    "print(len(parcels))\n",
    "# read in the CSV file \n",
    "zf = zipfile.ZipFile('./data/Appraisal_Tax_History2022/Real_Estate_Appraisal_Tax_History_2022.zip') \n",
    "appraisal_tax_history = pd.read_csv(zf.open('Real_Estate_Appraisal_Tax_History_2022.csv'))\n",
    "\n",
    "# appraisal_tax_history = pd.read_csv(\"./data/Appraisal_Tax_History2022/Real_Estate_Appraisal_Tax_History_2022.zip\",compression='zip') \n",
    "print(len(appraisal_tax_history))\n"
   ]
  },
  {
   "cell_type": "code",
   "execution_count": 640,
   "id": "f414ec01",
   "metadata": {},
   "outputs": [
    {
     "name": "stdout",
     "output_type": "stream",
     "text": [
      "91179\n"
     ]
    }
   ],
   "source": [
    "# Single family\n",
    "# 'RES 0-3 ACRES', 'RES >3 ACRES', 'CONDO','TOWNHOME', 'MFG HOME SITE'\n",
    "parcels =parcels.loc[parcels['Class'].isin(['100','101','120','121','170'])]\n",
    "print(len(parcels))\n",
    "parcels_len=len(parcels)"
   ]
  },
  {
   "cell_type": "code",
   "execution_count": 641,
   "id": "1a77125f",
   "metadata": {},
   "outputs": [],
   "source": [
    "#  For now I'm justing looking a the percent change from 2020 to 2021\n",
    "appraisal_tax_history = appraisal_tax_history.loc[appraisal_tax_history['TaxYear'] >= 2020]\n",
    "\n",
    "# Filtering for tax history records that have a PIN in the parcel database\n",
    "# this might help with computation load for the merge we'll do later\n",
    "appraisal_tax_history = appraisal_tax_history[appraisal_tax_history['PIN'].isin(parcels['PIN'])] \n",
    "\n",
    "# Calculating total valuation from land and bldg valuation. \n",
    "appraisal_tax_history['TotalVal'] = appraisal_tax_history['LandVal']+appraisal_tax_history['BldgVal']\n",
    "\n",
    "#calculate percent change\n",
    "appraisal_tax_history = appraisal_tax_history.sort_values(by=['PIN','TaxYear'])\n",
    "appraisal_tax_history['land_value_pct_change'] = appraisal_tax_history.groupby('PIN')['LandVal'].pct_change(periods=1)\n",
    "appraisal_tax_history['building_value_pct_change'] = appraisal_tax_history.groupby('PIN')['BldgVal'].pct_change(periods=1) \n",
    "appraisal_tax_history['total_value_pct_change'] = appraisal_tax_history.groupby('PIN')['TotalVal'].pct_change(periods=1) \n"
   ]
  },
  {
   "cell_type": "code",
   "execution_count": 642,
   "id": "0be0724c",
   "metadata": {},
   "outputs": [
    {
     "name": "stdout",
     "output_type": "stream",
     "text": [
      "83280\n"
     ]
    }
   ],
   "source": [
    "appraisal_tax_history = appraisal_tax_history.loc[appraisal_tax_history['TaxYear'] == 2021.0]\n",
    "print(len(appraisal_tax_history))"
   ]
  },
  {
   "cell_type": "code",
   "execution_count": 643,
   "id": "3f5f0488",
   "metadata": {},
   "outputs": [
    {
     "name": "stdout",
     "output_type": "stream",
     "text": [
      "83280\n"
     ]
    }
   ],
   "source": [
    "\n",
    "# User inner join here to only anlayse properties that I have a rate change for\n",
    "# this is to avoid possible parcels that have been recently created, so i don't peg them as having not \n",
    "# paid a bill without having been around for the rate increase\n",
    "merged_data = parcels.merge(appraisal_tax_history, how='inner', left_on='PIN', right_on='PIN')\n",
    "print(len(merged_data))\n",
    "\n",
    "merged_data_length_with_percent_change = len(merged_data)\n",
    "# merged_data.head(2)"
   ]
  },
  {
   "cell_type": "code",
   "execution_count": 644,
   "id": "b7a0b537",
   "metadata": {},
   "outputs": [
    {
     "name": "stderr",
     "output_type": "stream",
     "text": [
      "/var/folders/hy/304lry6j4sbbkk4_rs_vfdw80000gn/T/ipykernel_57919/540740679.py:1: DtypeWarning: Columns (12,21,49) have mixed types. Specify dtype option on import or set low_memory=False.\n",
      "  unpaid_bills = pd.read_csv(\"./data/Unpaid_Property_Bills2022/Unpaid_Property_Bills_from_2022.csv\")\n"
     ]
    },
    {
     "name": "stdout",
     "output_type": "stream",
     "text": [
      "21369\n",
      "83280\n",
      "91179\n",
      "83280\n",
      "unpaid_bills:  21369\n",
      "object\n",
      "object\n",
      "object\n",
      "before merge:  83280\n",
      "after merge:  83319\n",
      "before parcel merge:  91179\n",
      "after parcel merge:  91224\n",
      "False    77432\n",
      "True      5887\n",
      "Name: unpaid_bill, dtype: int64\n",
      "False    84888\n",
      "True      6336\n",
      "Name: unpaid_bill, dtype: int64\n",
      "False    84888\n",
      "True      6336\n",
      "Name: unpaid_bill, dtype: int64\n",
      "before second merge:  83319\n",
      "before second parcel merge:  91224\n",
      "after second merge:  83319\n",
      "after second parcel merge:  91224\n",
      "False    77432\n",
      "True      5887\n",
      "Name: unpaid_bill, dtype: int64\n",
      "False    84888\n",
      "True      6336\n",
      "Name: unpaid_bill, dtype: int64\n"
     ]
    }
   ],
   "source": [
    "\n",
    "unpaid_bills = pd.read_csv(\"./data/Unpaid_Property_Bills2022/Unpaid_Property_Bills_from_2022.csv\")\n",
    "# This will help identify properties with an unpaid bill, after merging the data.\n",
    "unpaid_bills['unpaid_bill']=True\n",
    "\n",
    "print(len(unpaid_bills))\n",
    "print(len(merged_data))\n",
    "print(len(parcels))\n",
    "\n",
    "\n",
    "# Remove leading and trailing white spaces from the \"address_line1\", \"city\", \"postal_code\", \"ADDRESS\", \"CITYNAME\", and \"ZIPCODE\" columns\n",
    "\n",
    "\n",
    "unpaid_bills = unpaid_bills.rename(columns={'pin': 'PIN'})\n",
    "# unpaid_bills['PIN'] = unpaid_bills['PIN'].astype(object)\n",
    "# merged_data['PIN'] = merged_data['PIN'].astype(object)\n",
    "# parcels['PIN'] = parcels['PIN'].astype(object)\n",
    "\n",
    "\n",
    "\n",
    "\n",
    "# unpaid_bills['PIN'] = unpaid_bills['PIN'].astype(int)\n",
    "# merged_data['PIN'] = merged_data['PIN'].astype(int)\n",
    "# parcels['PIN'] = parcels['PIN'].astype(int)\n",
    "\n",
    "\n",
    "unpaid_bills['PIN'] = unpaid_bills['PIN'].astype(str)\n",
    "merged_data['PIN'] = merged_data['PIN'].astype(str)\n",
    "parcels['PIN'] = parcels['PIN'].astype(str)\n",
    "\n",
    "\n",
    "unpaid_bills['PIN'] = unpaid_bills['PIN'].str.replace(\"-\", \"\")\n",
    "\n",
    "\n",
    "unpaid_bills['PIN'] = unpaid_bills['PIN'].str.strip()\n",
    "merged_data['PIN'] = merged_data['PIN'].str.strip()\n",
    "parcels['PIN'] = parcels['PIN'].str.strip()\n",
    "\n",
    "unpaid_bills['PIN'] = unpaid_bills['PIN'].fillna(value='')\n",
    "merged_data['PIN'] = merged_data['PIN'].fillna(value='')\n",
    "parcels['PIN'] = parcels['PIN'].fillna(value='')\n",
    "\n",
    "\n",
    "\n",
    "print(len(merged_data))\n",
    "print('unpaid_bills: ',len(unpaid_bills))\n",
    "\n",
    "print( unpaid_bills['PIN'].dtype)\n",
    "print(merged_data['PIN'].dtype)\n",
    "print( parcels['PIN'].dtype)\n",
    "\n",
    "# Sort the dataframes on the join column \"PIN\"\n",
    "merged_data.sort_values(\"PIN\", inplace=True)\n",
    "unpaid_bills.sort_values(\"PIN\", inplace=True)\n",
    "parcels.sort_values(\"PIN\", inplace=True)\n",
    "\n",
    "\n",
    "\n",
    "#merge left \n",
    "print(\"before merge: \", len(merged_data))\n",
    "merged_data = merged_data.merge(unpaid_bills, how='left',on='PIN')\n",
    "print(\"after merge: \", len(merged_data))\n",
    "\n",
    "print(\"before parcel merge: \", len(parcels))\n",
    "parcels = parcels.merge(unpaid_bills, how='left',on='PIN')\n",
    "print(\"after parcel merge: \", len(parcels))\n",
    "\n",
    "\n",
    "merged_data['unpaid_bill']=merged_data['unpaid_bill'].fillna(value=False)\n",
    "parcels['unpaid_bill']=parcels['unpaid_bill'].fillna(value=False)\n",
    "\n",
    "print(merged_data['unpaid_bill'].value_counts(dropna=False))\n",
    "print(parcels['unpaid_bill'].value_counts(dropna=False))\n",
    "\n",
    "# merged_data = merged_data.join(unpaid_bills, how='left',on='PIN',\n",
    "#                                lsuffix='', rsuffix='_y', sort=False)\n",
    "# print(len(merged_data))\n",
    "\n",
    "# parcels = parcels.join(unpaid_bills, how='left', on='PIN',\n",
    "#                                lsuffix='', rsuffix='_y', sort=False)\n",
    "# print(len(parcels))\n",
    "\n",
    "# Originally I had thought to try a secondary merge on address columns,\n",
    "# because there are many unpaid bills without a 'PIN'\n",
    "# but a gentelman at the county GIS office told me that unpaid bills with\n",
    "# a pin would be real-estate related, while thouse without it might be a \n",
    "# different type of property. Keeping this here to save the idea.\n",
    "\n",
    "# unpaid_bills['pin'] = unpaid_bills['pin'].str.replace(\"-\", \"\")\n",
    "# unpaid_bills['postal_code'] = unpaid_bills['postal_code'].astype(str)\n",
    "# unpaid_bills['postal_code'] = unpaid_bills['postal_code'].astype(object)\n",
    "\n",
    "# print(merged_data[[\"Address\", \"CityName\", \"Zipcode\"]].dtypes)\n",
    "# print(merged_data['PIN'].dtype)\n",
    "# print(unpaid_bills['pin'].dtype)\n",
    "# print(unpaid_bills[[\"address_line1\", \"city\", \"postal_code\"]].dtypes)\n",
    "unpaid_bills['address_line1']=unpaid_bills['address_line1']+unpaid_bills['address_line2']\n",
    "unpaid_bills['address_line1'] = unpaid_bills['address_line1'].str.strip()\n",
    "unpaid_bills['city'] = unpaid_bills['city'].str.strip()\n",
    "# unpaid_bills['postal_code'] = unpaid_bills['postal_code'].str.strip()\n",
    "merged_data['Address'] = merged_data['Address'].str.strip()\n",
    "merged_data['CityName'] = merged_data['CityName'].str.strip()\n",
    "# merged_data['Zipcode'] = merged_data['Zipcode'].str.strip()\n",
    "\n",
    "# # Convert the \"address_line1\", \"city\", \"postal_code\", \"ADDRESS\", \"CITYNAME\", and \"ZIPCODE\" columns to lowercase\n",
    "unpaid_bills['address_line1'] = unpaid_bills['address_line1'].str.lower()\n",
    "unpaid_bills['city'] = unpaid_bills['city'].str.lower()\n",
    "# unpaid_bills['postal_code'] = unpaid_bills['postal_code'].str.lower()\n",
    "merged_data['Address'] = merged_data['Address'].str.lower()\n",
    "merged_data['CityName'] = merged_data['CityName'].str.lower()\n",
    "# merged_data['Zipcode'] = merged_data['Zipcode'].str.lower()\n",
    "\n",
    "\n",
    "\n",
    "\n",
    "\n",
    "print(parcels['unpaid_bill'].value_counts(dropna=False))\n",
    "\n",
    "#Secondary merge on \"Address\", \"CityName\", \"Zipcode\" and \"address_line1\", \"city\", \"postal_code\"\n",
    "print(\"before second merge: \", len(merged_data))\n",
    "print(\"before second parcel merge: \", len(parcels))\n",
    "merged_data = merged_data.merge(unpaid_bills, how='left', \n",
    "                                left_on=['Address', 'CityName'], \n",
    "                                right_on=['address_line1', 'city'],suffixes=['','_y'])\n",
    "\n",
    "\n",
    "parcels = parcels.merge(unpaid_bills, how='left', \n",
    "                                left_on=['Address', 'CityName'], \n",
    "                                right_on=['address_line1', 'city'],suffixes=['','_y'])\n",
    "print(\"after second merge: \", len(merged_data))\n",
    "\n",
    "print(\"after second parcel merge: \", len(parcels))\n",
    "# print(len(merged_data_no_pin))\n",
    "# merged_data = pd.concat([merged_data_no_pin,merged_data]) \n",
    "merged_data['unpaid_bill']=merged_data['unpaid_bill'].fillna(value=False)\n",
    "parcels['unpaid_bill']=parcels['unpaid_bill'].fillna(value=False)\n",
    "\n",
    "print(merged_data['unpaid_bill'].value_counts(dropna=False))\n",
    "print(parcels['unpaid_bill'].value_counts(dropna=False))\n",
    "\n",
    "# merged_data.head(2)"
   ]
  },
  {
   "cell_type": "code",
   "execution_count": null,
   "id": "afc34ae4",
   "metadata": {},
   "outputs": [],
   "source": []
  },
  {
   "cell_type": "code",
   "execution_count": 645,
   "id": "ff11f38d",
   "metadata": {},
   "outputs": [],
   "source": [
    "# Get vars from census for logistic regression\n",
    "\n",
    "import cenpy\n",
    "\n",
    "vars_to_download = {\n",
    "    \"B25077_001E\": \"median_house_value\",  # Median house value\n",
    "    \"B02001_002E\": \"total_pop_white\",     # Total white population\n",
    "    \"B01003_001E\": \"total_pop\",           # Total population\n",
    "    \"B25003_003E\": \"total_rented\",        # Total rented occupied\n",
    "    \"B25001_001E\": \"total_housing_units\", # Total housing units\n",
    "    \"B09019_006E\": \"hh_female\",           # Female households\n",
    "    \"B09019_001E\": \"hh_total\",            # Total households\n",
    "    \"B15003_002E\": \"total_bachelor\",      # Total w/ Bachelor degree\n",
    "    \"B25018_001E\": \"median_no_rooms\",     # Median number of rooms\n",
    "    \"B19083_001E\": \"income_gini\",         # Gini index of income inequality\n",
    "    \"B01002_001E\": \"median_age\",          # Median age\n",
    "    \"B08303_001E\": \"tt_work\",              # Aggregate travel time to work\n",
    "    \"B19013_001E\": \"median_hh_income\"     # Median household income\n",
    "}\n",
    "vars_to_download_l = list(vars_to_download.keys())\n",
    "\n",
    "acs = cenpy.products.ACS()\n",
    "tracts = acs.from_county('Buncombe, NC',level='tract',variables=vars_to_download)\n",
    "tracts = tracts.rename(columns=vars_to_download)\n",
    "\n",
    "tracts[\"pct_rented\"] = tracts[\"total_rented\"] / \\\n",
    "                  (tracts[\"total_housing_units\"] + \\\n",
    "                   (tracts[\"total_housing_units\"]==0) * 1\n",
    "                  )\n",
    "tracts[\"pct_hh_female\"] = tracts[\"hh_female\"] / \\\n",
    "                  (tracts[\"hh_total\"] + \\\n",
    "                   (tracts[\"hh_total\"]==0) * 1\n",
    "                  )\n",
    "tracts[\"pct_bachelor\"] = tracts[\"total_bachelor\"] / \\\n",
    "                  (tracts[\"total_pop\"] + \\\n",
    "                   (tracts[\"total_pop\"]==0) * 1\n",
    "                  )\n",
    "\n",
    "tracts[\"pct_white\"] = tracts[\"total_pop_white\"] / \\\n",
    "                  (tracts[\"total_pop\"] + \\\n",
    "                   (tracts[\"total_pop\"]==0) * 1\n",
    "                  )\n",
    "\n",
    "# tracts.head(2)\n",
    "\n"
   ]
  },
  {
   "cell_type": "code",
   "execution_count": 646,
   "id": "30320e80",
   "metadata": {},
   "outputs": [
    {
     "name": "stderr",
     "output_type": "stream",
     "text": [
      "/opt/anaconda3/envs/geppandas_stats/lib/python3.9/site-packages/pyproj/crs/crs.py:53: FutureWarning: '+init=<authority>:<code>' syntax is deprecated. '<authority>:<code>' is the preferred initialization method. When making the change, be mindful of axis order changes: https://pyproj4.github.io/pyproj/stable/gotchas.html#axis-order-changes-in-proj-6\n",
      "  return _prepare_from_string(\" \".join(pjargs))\n",
      "/opt/anaconda3/envs/geppandas_stats/lib/python3.9/site-packages/pyproj/crs/crs.py:53: FutureWarning: '+init=<authority>:<code>' syntax is deprecated. '<authority>:<code>' is the preferred initialization method. When making the change, be mindful of axis order changes: https://pyproj4.github.io/pyproj/stable/gotchas.html#axis-order-changes-in-proj-6\n",
      "  return _prepare_from_string(\" \".join(pjargs))\n"
     ]
    }
   ],
   "source": [
    "crs = {'init': 'epsg:4326'}\n",
    "\n",
    "# Convert both parcels and tracts to the same CRS\n",
    "merged_data = merged_data.to_crs(crs)\n",
    "tracts = tracts.to_crs(crs)\n",
    "\n",
    "merged_data = gpd.sjoin(merged_data, tracts, how=\"left\", op='within')"
   ]
  },
  {
   "cell_type": "code",
   "execution_count": 647,
   "id": "f6ff84f8",
   "metadata": {},
   "outputs": [
    {
     "data": {
      "text/plain": [
       "NaN        77432\n",
       "30.59          8\n",
       "318.09         7\n",
       "63.55          5\n",
       "2843.95        5\n",
       "           ...  \n",
       "2828.67        1\n",
       "2395.37        1\n",
       "786.24         1\n",
       "2690.36        1\n",
       "407.29         1\n",
       "Name: total_due, Length: 5652, dtype: int64"
      ]
     },
     "execution_count": 647,
     "metadata": {},
     "output_type": "execute_result"
    }
   ],
   "source": [
    "merged_data[\"total_due\"].value_counts(dropna=False)"
   ]
  },
  {
   "cell_type": "code",
   "execution_count": 648,
   "id": "e2d244b8",
   "metadata": {},
   "outputs": [
    {
     "data": {
      "text/plain": [
       "100    62329\n",
       "170     8337\n",
       "101     4903\n",
       "120     4409\n",
       "121     3341\n",
       "Name: Class, dtype: int64"
      ]
     },
     "execution_count": 648,
     "metadata": {},
     "output_type": "execute_result"
    }
   ],
   "source": [
    "merged_data[\"Class\"].value_counts(dropna=False)"
   ]
  },
  {
   "cell_type": "code",
   "execution_count": 649,
   "id": "fbc13bdb",
   "metadata": {},
   "outputs": [
    {
     "data": {
      "text/plain": [
       "False    77432\n",
       "True      5887\n",
       "Name: unpaid_bill, dtype: int64"
      ]
     },
     "execution_count": 649,
     "metadata": {},
     "output_type": "execute_result"
    }
   ],
   "source": [
    "merged_data['unpaid_bill'].value_counts(dropna=False)\n",
    "# Lingering question: If your taxeble value changes in 2021 \n",
    "# when is the first time you'd pay taxes on the new amount? \n",
    "# I'm using billing data from 2022 beacuse, to be on the safer side."
   ]
  },
  {
   "cell_type": "code",
   "execution_count": 650,
   "id": "d9a6692f",
   "metadata": {},
   "outputs": [
    {
     "name": "stdout",
     "output_type": "stream",
     "text": [
      "83319\n",
      "83280\n"
     ]
    },
    {
     "data": {
      "text/plain": [
       "NaN         1394\n",
       "0.000000     428\n",
       "0.371257      64\n",
       "0.319672      62\n",
       "0.250000      57\n",
       "            ... \n",
       "0.229254       1\n",
       "0.217112       1\n",
       "0.206049       1\n",
       "0.217913       1\n",
       "0.344164       1\n",
       "Name: total_value_pct_change, Length: 72754, dtype: int64"
      ]
     },
     "execution_count": 650,
     "metadata": {},
     "output_type": "execute_result"
    }
   ],
   "source": [
    "# Check how many preperties don't have a percent change\n",
    "print(len(merged_data))\n",
    "print(merged_data_length_with_percent_change)\n",
    "merged_data[\"total_value_pct_change\"].value_counts(dropna=False)"
   ]
  },
  {
   "cell_type": "code",
   "execution_count": 651,
   "id": "aef36505",
   "metadata": {},
   "outputs": [
    {
     "data": {
      "text/plain": [
       "0.000000    428\n",
       "0.371257     64\n",
       "0.319672     62\n",
       "0.250000     57\n",
       "0.621475     56\n",
       "           ... \n",
       "0.229254      1\n",
       "0.217112      1\n",
       "0.206049      1\n",
       "0.217913      1\n",
       "0.344164      1\n",
       "Name: total_value_pct_change, Length: 72753, dtype: int64"
      ]
     },
     "execution_count": 651,
     "metadata": {},
     "output_type": "execute_result"
    }
   ],
   "source": [
    "# only want to look at houses for which I hav a percent incerase\n",
    "merged_data = merged_data[~merged_data[\"total_value_pct_change\"].isnull()]\n",
    "merged_data[\"total_value_pct_change\"].value_counts(dropna=False)"
   ]
  },
  {
   "cell_type": "code",
   "execution_count": 652,
   "id": "2a7c700b",
   "metadata": {},
   "outputs": [],
   "source": [
    "# merged_data.head(2)"
   ]
  },
  {
   "cell_type": "code",
   "execution_count": 653,
   "id": "baa7a584",
   "metadata": {},
   "outputs": [
    {
     "name": "stdout",
     "output_type": "stream",
     "text": [
      "Number of columns: 81925\n",
      "null values:\n",
      "unpaid_bill               0\n",
      "total_value_pct_change    0\n",
      "dtype: int64\n",
      "Number of null independent values: median_hh_income    754\n",
      "income_gini         754\n",
      "pct_white           754\n",
      "pct_bachelor        754\n",
      "pct_rented          754\n",
      "dtype: int64\n",
      "Number of null independent values after imputation: median_hh_income    0\n",
      "income_gini         0\n",
      "pct_white           0\n",
      "pct_bachelor        0\n",
      "pct_rented          0\n",
      "dtype: int64\n",
      "total_value_pct_change    1\n",
      "unpaid_bill               0\n",
      "dtype: int64\n",
      "Number of null values now: total_value_pct_change    1\n",
      "dtype: int64\n",
      "Number of null values now now: total_value_pct_change    0\n",
      "dtype: int64\n",
      "81924\n",
      "81924\n",
      "Optimization terminated successfully.\n",
      "         Current function value: 0.254377\n",
      "         Iterations 7\n",
      "                           Logit Regression Results                           \n",
      "==============================================================================\n",
      "Dep. Variable:            unpaid_bill   No. Observations:                81924\n",
      "Model:                          Logit   Df Residuals:                    81917\n",
      "Method:                           MLE   Df Model:                            6\n",
      "Date:                Wed, 01 Feb 2023   Pseudo R-squ.:                0.005162\n",
      "Time:                        01:04:16   Log-Likelihood:                -20840.\n",
      "converged:                       True   LL-Null:                       -20948.\n",
      "Covariance Type:            nonrobust   LLR p-value:                 6.533e-44\n",
      "==========================================================================================\n",
      "                             coef    std err          z      P>|z|      [0.025      0.975]\n",
      "------------------------------------------------------------------------------------------\n",
      "const                     -1.7856      0.258     -6.927      0.000      -2.291      -1.280\n",
      "total_value_pct_change    -0.0009      0.000     -3.328      0.001      -0.001      -0.000\n",
      "median_hh_income        -1.63e-05   1.33e-06    -12.250      0.000   -1.89e-05   -1.37e-05\n",
      "income_gini               -0.2117      0.271     -0.781      0.435      -0.743       0.320\n",
      "pct_white                  0.0042      0.002      1.964      0.049    9.51e-06       0.008\n",
      "pct_bachelor               0.0155      0.021      0.725      0.469      -0.026       0.057\n",
      "pct_rented                -0.0066      0.001     -4.848      0.000      -0.009      -0.004\n",
      "==========================================================================================\n"
     ]
    }
   ],
   "source": [
    "import statsmodels.api as sm\n",
    "\n",
    "\n",
    "main_columns = ['unpaid_bill','total_value_pct_change'] \n",
    "print(\"Number of columns:\", len(merged_data))\n",
    "print(\"null values:\")\n",
    "print(merged_data[main_columns].isnull().sum())\n",
    "# prepare data \n",
    "\n",
    "# Use imputation on census tract varaibels that are null. \n",
    "census_columns=['median_hh_income','income_gini','pct_white','pct_bachelor','pct_rented'] \n",
    "print(\"Number of null independent values:\", merged_data[census_columns].isnull().sum())\n",
    "filler = lambda col: col.fillna(col.median())\n",
    "merged_data.loc[:, census_columns] = merged_data.loc[:, census_columns].apply(filler)\n",
    "print(\"Number of null independent values after imputation:\", merged_data[census_columns].isnull().sum())\n",
    "\n",
    "# quick check for inf values\n",
    "df = merged_data[['total_value_pct_change','unpaid_bill']]\n",
    "number_inf = df[df == np.inf].count()\n",
    "# one total_value_pct_change is inf so I will change it to nan and drop it\n",
    "print(number_inf)\n",
    "\n",
    "merged_data['total_value_pct_change'].replace([np.inf, -np.inf], np.nan, inplace=True)\n",
    "print(\"Number of null values now:\", merged_data[['total_value_pct_change']].isnull().sum())\n",
    "merged_data.dropna(subset=[\"total_value_pct_change\"],how=\"any\", inplace=True)\n",
    "\n",
    "print(\"Number of null values now now:\", merged_data[['total_value_pct_change']].isnull().sum())\n",
    "\n",
    "\n",
    "\n",
    "\n",
    "\n",
    "\n",
    "# Multiply to make coef easier to interpret. \n",
    "merged_data['total_value_pct_change'] = merged_data['total_value_pct_change']*100\n",
    "merged_data['pct_white'] = merged_data['pct_white']*100\n",
    "merged_data['pct_bachelor'] = merged_data['pct_bachelor']*100\n",
    "merged_data['pct_rented'] = merged_data['pct_rented']*100\n",
    "\n",
    "\n",
    "\n",
    "\n",
    "# merged_data=merged_data[['unpaid_bill','total_value_pct_change', 'median_hh_income','income_gini','pct_white','pct_bachelor','pct_rented']]\n",
    "# merged_data=merged_data.dropna()\n",
    "# Prepare matrix X with all independent variables\n",
    "# valuation percent change\n",
    "# median household income \n",
    "# Gini index of income inequality \n",
    "# percent of population that's white\n",
    "# percent of population with bachelor degree\n",
    "# percent of housing_units that are rented\n",
    "X = merged_data[['total_value_pct_change', 'median_hh_income','income_gini','pct_white','pct_bachelor','pct_rented']]\n",
    "X = sm.add_constant(X) # adding a constant to include the intercept term\n",
    "\n",
    "# X = merged_data['total_value_pct_change']\n",
    "print(len(X))\n",
    "y = merged_data['unpaid_bill']\n",
    "print(len(y))\n",
    "# Fit the logistic regression model\n",
    "\n",
    "logit = sm.Logit(y, X)\n",
    "result = logit.fit()\n",
    "print(result.summary())\n",
    "\n",
    "# I still need to check for linearity\n"
   ]
  },
  {
   "cell_type": "code",
   "execution_count": 654,
   "id": "fb26a305",
   "metadata": {},
   "outputs": [],
   "source": [
    "# import seaborn as sns\n",
    "# sns.scatterplot(x='total_value_qpct_change', y='unpaid_bill', data=merged_data)"
   ]
  },
  {
   "cell_type": "code",
   "execution_count": 655,
   "id": "36f1ea89",
   "metadata": {},
   "outputs": [],
   "source": [
    "# top_10_highest_values = merged_data.nlargest(5, 'TotalVal')\n",
    "# top_10_highest_values"
   ]
  },
  {
   "cell_type": "code",
   "execution_count": 656,
   "id": "77888be1",
   "metadata": {
    "scrolled": false
   },
   "outputs": [
    {
     "name": "stdout",
     "output_type": "stream",
     "text": [
      "Coefficients for quintile Q1\n",
      "Optimization terminated successfully.\n",
      "         Current function value: 0.420850\n",
      "         Iterations 6\n",
      "                           Logit Regression Results                           \n",
      "==============================================================================\n",
      "Dep. Variable:            unpaid_bill   No. Observations:                16394\n",
      "Model:                          Logit   Df Residuals:                    16387\n",
      "Method:                           MLE   Df Model:                            6\n",
      "Date:                Wed, 01 Feb 2023   Pseudo R-squ.:                0.003624\n",
      "Time:                        01:04:16   Log-Likelihood:                -6899.4\n",
      "converged:                       True   LL-Null:                       -6924.5\n",
      "Covariance Type:            nonrobust   LLR p-value:                 4.313e-09\n",
      "==========================================================================================\n",
      "                             coef    std err          z      P>|z|      [0.025      0.975]\n",
      "------------------------------------------------------------------------------------------\n",
      "const                     -1.5024      0.491     -3.061      0.002      -2.464      -0.541\n",
      "total_value_pct_change    -0.0028      0.001     -3.312      0.001      -0.004      -0.001\n",
      "median_hh_income        -1.18e-05   2.65e-06     -4.448      0.000    -1.7e-05    -6.6e-06\n",
      "income_gini                0.3073      0.409      0.751      0.453      -0.495       1.110\n",
      "pct_white                  0.0049      0.004      1.131      0.258      -0.004       0.013\n",
      "pct_bachelor               0.0496      0.032      1.546      0.122      -0.013       0.113\n",
      "pct_rented                -0.0066      0.003     -2.521      0.012      -0.012      -0.001\n",
      "==========================================================================================\n",
      "Coefficients for quintile Q2\n",
      "Optimization terminated successfully.\n",
      "         Current function value: 0.248545\n",
      "         Iterations 7\n",
      "                           Logit Regression Results                           \n",
      "==============================================================================\n",
      "Dep. Variable:            unpaid_bill   No. Observations:                16395\n",
      "Model:                          Logit   Df Residuals:                    16388\n",
      "Method:                           MLE   Df Model:                            6\n",
      "Date:                Wed, 01 Feb 2023   Pseudo R-squ.:               0.0009306\n",
      "Time:                        01:04:16   Log-Likelihood:                -4074.9\n",
      "converged:                       True   LL-Null:                       -4078.7\n",
      "Covariance Type:            nonrobust   LLR p-value:                    0.2696\n",
      "==========================================================================================\n",
      "                             coef    std err          z      P>|z|      [0.025      0.975]\n",
      "------------------------------------------------------------------------------------------\n",
      "const                     -1.9261      0.548     -3.518      0.000      -2.999      -0.853\n",
      "total_value_pct_change     0.0001      0.000      0.505      0.613      -0.000       0.001\n",
      "median_hh_income       -5.424e-06   3.48e-06     -1.559      0.119   -1.22e-05    1.39e-06\n",
      "income_gini               -0.3379      0.596     -0.567      0.571      -1.507       0.831\n",
      "pct_white                 -0.0032      0.004     -0.724      0.469      -0.012       0.006\n",
      "pct_bachelor              -0.0265      0.048     -0.548      0.584      -0.121       0.068\n",
      "pct_rented                 0.0010      0.003      0.295      0.768      -0.005       0.007\n",
      "==========================================================================================\n",
      "Coefficients for quintile Q3\n",
      "Optimization terminated successfully.\n",
      "         Current function value: 0.204787\n",
      "         Iterations 7\n",
      "                           Logit Regression Results                           \n",
      "==============================================================================\n",
      "Dep. Variable:            unpaid_bill   No. Observations:                16365\n",
      "Model:                          Logit   Df Residuals:                    16358\n",
      "Method:                           MLE   Df Model:                            6\n",
      "Date:                Wed, 01 Feb 2023   Pseudo R-squ.:                0.001407\n",
      "Time:                        01:04:16   Log-Likelihood:                -3351.3\n",
      "converged:                       True   LL-Null:                       -3356.1\n",
      "Covariance Type:            nonrobust   LLR p-value:                    0.1501\n",
      "==========================================================================================\n",
      "                             coef    std err          z      P>|z|      [0.025      0.975]\n",
      "------------------------------------------------------------------------------------------\n",
      "const                     -3.2675      0.642     -5.088      0.000      -4.526      -2.009\n",
      "total_value_pct_change    -0.0002      0.001     -0.364      0.716      -0.001       0.001\n",
      "median_hh_income        2.962e-06   3.82e-06      0.775      0.438   -4.53e-06    1.04e-05\n",
      "income_gini                0.1039      0.727      0.143      0.886      -1.321       1.529\n",
      "pct_white                 -0.0016      0.005     -0.313      0.754      -0.011       0.008\n",
      "pct_bachelor               0.1043      0.057      1.846      0.065      -0.006       0.215\n",
      "pct_rented                 0.0077      0.003      2.235      0.025       0.001       0.014\n",
      "==========================================================================================\n",
      "Coefficients for quintile Q4\n",
      "Optimization terminated successfully.\n",
      "         Current function value: 0.175591\n",
      "         Iterations 8\n",
      "                           Logit Regression Results                           \n",
      "==============================================================================\n",
      "Dep. Variable:            unpaid_bill   No. Observations:                16387\n",
      "Model:                          Logit   Df Residuals:                    16380\n",
      "Method:                           MLE   Df Model:                            6\n",
      "Date:                Wed, 01 Feb 2023   Pseudo R-squ.:                0.002913\n",
      "Time:                        01:04:16   Log-Likelihood:                -2877.4\n",
      "converged:                       True   LL-Null:                       -2885.8\n",
      "Covariance Type:            nonrobust   LLR p-value:                   0.01000\n",
      "==========================================================================================\n",
      "                             coef    std err          z      P>|z|      [0.025      0.975]\n",
      "------------------------------------------------------------------------------------------\n",
      "const                     -2.9517      0.765     -3.859      0.000      -4.451      -1.453\n",
      "total_value_pct_change    -0.0012      0.001     -1.581      0.114      -0.003       0.000\n",
      "median_hh_income       -8.545e-06   4.09e-06     -2.087      0.037   -1.66e-05    -5.2e-07\n",
      "income_gini               -1.4103      0.828     -1.703      0.089      -3.033       0.213\n",
      "pct_white                  0.0084      0.006      1.394      0.163      -0.003       0.020\n",
      "pct_bachelor               0.0425      0.063      0.670      0.503      -0.082       0.167\n",
      "pct_rented                 0.0055      0.004      1.506      0.132      -0.002       0.013\n",
      "==========================================================================================\n",
      "Coefficients for quintile Q5\n",
      "Optimization terminated successfully.\n",
      "         Current function value: 0.171453\n",
      "         Iterations 7\n",
      "                           Logit Regression Results                           \n",
      "==============================================================================\n",
      "Dep. Variable:            unpaid_bill   No. Observations:                16382\n",
      "Model:                          Logit   Df Residuals:                    16375\n",
      "Method:                           MLE   Df Model:                            6\n",
      "Date:                Wed, 01 Feb 2023   Pseudo R-squ.:               0.0006176\n",
      "Time:                        01:04:16   Log-Likelihood:                -2808.7\n",
      "converged:                       True   LL-Null:                       -2810.5\n",
      "Covariance Type:            nonrobust   LLR p-value:                    0.7478\n",
      "==========================================================================================\n",
      "                             coef    std err          z      P>|z|      [0.025      0.975]\n",
      "------------------------------------------------------------------------------------------\n",
      "const                     -2.7906      0.788     -3.543      0.000      -4.334      -1.247\n",
      "total_value_pct_change    -0.0001      0.000     -0.352      0.725      -0.001       0.001\n",
      "median_hh_income       -2.848e-07   2.05e-06     -0.139      0.890   -4.31e-06    3.74e-06\n",
      "income_gini                0.9434      0.904      1.044      0.297      -0.829       2.715\n",
      "pct_white                 -0.0074      0.006     -1.146      0.252      -0.020       0.005\n",
      "pct_bachelor              -0.0240      0.074     -0.323      0.746      -0.169       0.121\n",
      "pct_rented                -0.0030      0.003     -0.867      0.386      -0.010       0.004\n",
      "==========================================================================================\n"
     ]
    }
   ],
   "source": [
    "quintiles = merged_data['TotalVal'].quantile([0, 0.2, 0.4, 0.6, 0.8, 1])\n",
    "array_q = ['Q1', 'Q2', 'Q3', 'Q4', 'Q5']\n",
    "merged_data['TotalVal_quintile'] = pd.cut(merged_data['TotalVal'], quintiles, labels=array_q)\n",
    "\n",
    "# Loop through quintiles and run a logistic regression\n",
    "for quintile in array_q:\n",
    "    merged_data_quintile = merged_data[merged_data['TotalVal_quintile'] == quintile]\n",
    "    Xx = merged_data_quintile[['total_value_pct_change', 'median_hh_income','income_gini','pct_white','pct_bachelor','pct_rented']]\n",
    "    Xx = sm.add_constant(Xx) # adding a constant to include the intercept term\n",
    "    Yy = merged_data_quintile['unpaid_bill']\n",
    "    print(f'Coefficients for quintile {quintile}')\n",
    "    logit = sm.Logit(Yy, Xx)\n",
    "    result = logit.fit()\n",
    "    print(result.summary())\n",
    "    "
   ]
  },
  {
   "cell_type": "code",
   "execution_count": 657,
   "id": "1902946a",
   "metadata": {},
   "outputs": [
    {
     "data": {
      "text/plain": [
       "0.06945540647198106"
      ]
     },
     "execution_count": 657,
     "metadata": {},
     "output_type": "execute_result"
    }
   ],
   "source": [
    "#  total unpaid bill rate\n",
    "parcels['unpaid_bill'].mean()"
   ]
  },
  {
   "cell_type": "code",
   "execution_count": 658,
   "id": "aa7ac027",
   "metadata": {},
   "outputs": [
    {
     "name": "stdout",
     "output_type": "stream",
     "text": [
      "91224\n",
      "\n",
      " --------\n",
      "Raw totals quintiles:\n",
      "TaxVal_quintile\n",
      "(0.0, 164400.0]          2578\n",
      "(164400.0, 237900.0]     1276\n",
      "(237900.0, 304300.0]      952\n",
      "(304300.0, 420200.0]      769\n",
      "(420200.0, 8505800.0]     749\n",
      "Name: unpaid_bill, dtype: int64\n",
      "\n",
      " --------\n",
      "Total_counts quintiles:\n",
      "TaxVal_quintile\n",
      "(0.0, 164400.0]          17073\n",
      "(164400.0, 237900.0]     18279\n",
      "(237900.0, 304300.0]     18223\n",
      "(304300.0, 420200.0]     18241\n",
      "(420200.0, 8505800.0]    18233\n",
      "Name: TaxValue, dtype: int64\n",
      "\n",
      " --------\n",
      "rate raw_counts / total_counts by quintile:\n",
      "TaxVal_quintile\n",
      "(0.0, 164400.0]          0.150999\n",
      "(164400.0, 237900.0]     0.069807\n",
      "(237900.0, 304300.0]     0.052242\n",
      "(304300.0, 420200.0]     0.042158\n",
      "(420200.0, 8505800.0]    0.041079\n",
      "dtype: float64\n",
      "TaxVal_quintile        unpaid_bill\n",
      "(0.0, 164400.0]        False          14495\n",
      "                       True            2578\n",
      "(164400.0, 237900.0]   False          17003\n",
      "                       True            1276\n",
      "(237900.0, 304300.0]   False          17271\n",
      "                       True             952\n",
      "(304300.0, 420200.0]   False          17472\n",
      "                       True             769\n",
      "(420200.0, 8505800.0]  False          17484\n",
      "                       True             749\n",
      "Name: unpaid_bill, dtype: int64\n",
      "['\\\\$0 - \\\\$164400', '\\\\$164400 - \\\\$237900', '\\\\$237900 - \\\\$304300', '\\\\$304300 - \\\\$420200', '\\\\$420200 - \\\\$8505800']\n"
     ]
    },
    {
     "name": "stderr",
     "output_type": "stream",
     "text": [
      "/var/folders/hy/304lry6j4sbbkk4_rs_vfdw80000gn/T/ipykernel_57919/2287866855.py:40: UserWarning: FixedFormatter should only be used together with FixedLocator\n",
      "  ax.set_yticklabels(['{:,.0%}'.format(x) for x in ax.get_yticks()])\n"
     ]
    },
    {
     "data": {
      "image/png": "[encoded data removed]",
      "text/plain": [
       "<Figure size 432x288 with 1 Axes>"
      ]
     },
     "metadata": {},
     "output_type": "display_data"
    }
   ],
   "source": [
    "# Here I'm checking to see which quintiles have more unpaid bills.\n",
    "#switching back to using all parcels to include those I filtered out\n",
    "#when cleaning for the previous section, but an argument could probably be made to use either.\n",
    "import matplotlib.pyplot as plt\n",
    "print(len(parcels))\n",
    "quintiles = parcels['TaxValue'].quantile([0, 0.2, 0.4, 0.6, 0.8, 1])\n",
    "array_q = ['Q1', 'Q2', 'Q3', 'Q4', 'Q5']\n",
    "parcels['TaxVal_quintile'] = pd.cut(parcels['TaxValue'], quintiles)\n",
    "\n",
    "\n",
    "grouped_quintiles = parcels.groupby('TaxVal_quintile')\n",
    "\n",
    "# Get the raw number of true 'unpaid_bill' variables in each quintile\n",
    "raw_counts_quintiles = grouped_quintiles['unpaid_bill'].sum()\n",
    "\n",
    "# Get the total number of records in each quintile\n",
    "total_counts_quintiles = grouped_quintiles['TaxValue'].count()\n",
    "\n",
    "# Get the ratio of true 'unpaid_bill' variables in each quintile\n",
    "ratio_quintiles = raw_counts_quintiles / total_counts_quintiles\n",
    "print('\\n --------')\n",
    "print('Raw totals quintiles:')\n",
    "print(raw_counts_quintiles)\n",
    "print('\\n --------')\n",
    "print('Total_counts quintiles:')\n",
    "print(total_counts_quintiles)\n",
    "print('\\n --------')\n",
    "print('rate raw_counts / total_counts by quintile:')\n",
    "print(ratio_quintiles)\n",
    "\n",
    "print(parcels.groupby('TaxVal_quintile')['unpaid_bill'].value_counts(dropna=False))\n",
    "quintiles_rates = parcels.groupby('TaxVal_quintile')['unpaid_bill'].agg(['count', 'sum', 'mean']).reset_index()\n",
    "fig, ax = plt.subplots(facecolor='#E5E5E5') #set figure background color to a light gray (#E5E5E5)\n",
    "quintiles_rates.plot.bar(x='TaxVal_quintile', y='mean', rot=0,ax=ax)\n",
    "\n",
    "x_labels = [f\"\\${int(i.left)} - \\${int(i.right)}\" for i in parcels['TaxVal_quintile'].cat.categories]\n",
    "print(x_labels)\n",
    "ax.set_xticklabels(x_labels,rotation=60)\n",
    "\n",
    "ax.set_yticklabels(['{:,.0%}'.format(x) for x in ax.get_yticks()])\n",
    "\n",
    "ax.legend([\"Quintile's 2022 rate of homes\\nwith unpaid property bills\"]);\n",
    "\n",
    "plt.xlabel(\"Taxable Value Quintiles\")\n",
    "\n",
    "plt.ylabel(\"Percent of Homes with Unpaid Property Bill\")\n",
    "\n",
    "\n",
    "\n",
    "plt.savefig('images/unpaid_property_bill_quintile_rates.png', dpi=300,bbox_inches='tight')"
   ]
  },
  {
   "cell_type": "code",
   "execution_count": 659,
   "id": "36fdac89",
   "metadata": {},
   "outputs": [
    {
     "name": "stdout",
     "output_type": "stream",
     "text": [
      "Deciles\n",
      " --------\n",
      "Raw totals:\n",
      "TaxVal_deciles\n",
      "(0.0, 105200.0]          1566\n",
      "(105200.0, 164400.0]     1012\n",
      "(164400.0, 205200.0]      711\n",
      "(205200.0, 237900.0]      565\n",
      "(237900.0, 269300.0]      493\n",
      "(269300.0, 304300.0]      459\n",
      "(304300.0, 350200.0]      420\n",
      "(350200.0, 420200.0]      349\n",
      "(420200.0, 561300.0]      354\n",
      "(561300.0, 8505800.0]     395\n",
      "Name: unpaid_bill, dtype: int64\n",
      "\n",
      " --------\n",
      "Total_counts:\n",
      "TaxVal_deciles\n",
      "(0.0, 105200.0]          7952\n",
      "(105200.0, 164400.0]     9121\n",
      "(164400.0, 205200.0]     9129\n",
      "(205200.0, 237900.0]     9150\n",
      "(237900.0, 269300.0]     9102\n",
      "(269300.0, 304300.0]     9121\n",
      "(304300.0, 350200.0]     9123\n",
      "(350200.0, 420200.0]     9118\n",
      "(420200.0, 561300.0]     9111\n",
      "(561300.0, 8505800.0]    9122\n",
      "Name: TaxValue, dtype: int64\n",
      "\n",
      " --------\n",
      "rate raw_counts / total_counts:\n",
      "TaxVal_deciles\n",
      "(0.0, 105200.0]          0.196932\n",
      "(105200.0, 164400.0]     0.110953\n",
      "(164400.0, 205200.0]     0.077884\n",
      "(205200.0, 237900.0]     0.061749\n",
      "(237900.0, 269300.0]     0.054164\n",
      "(269300.0, 304300.0]     0.050323\n",
      "(304300.0, 350200.0]     0.046037\n",
      "(350200.0, 420200.0]     0.038276\n",
      "(420200.0, 561300.0]     0.038854\n",
      "(561300.0, 8505800.0]    0.043302\n",
      "dtype: float64\n",
      "TaxVal_deciles         unpaid_bill\n",
      "(0.0, 105200.0]        False          6386\n",
      "                       True           1566\n",
      "(105200.0, 164400.0]   False          8109\n",
      "                       True           1012\n",
      "(164400.0, 205200.0]   False          8418\n",
      "                       True            711\n",
      "(205200.0, 237900.0]   False          8585\n",
      "                       True            565\n",
      "(237900.0, 269300.0]   False          8609\n",
      "                       True            493\n",
      "(269300.0, 304300.0]   False          8662\n",
      "                       True            459\n",
      "(304300.0, 350200.0]   False          8703\n",
      "                       True            420\n",
      "(350200.0, 420200.0]   False          8769\n",
      "                       True            349\n",
      "(420200.0, 561300.0]   False          8757\n",
      "                       True            354\n",
      "(561300.0, 8505800.0]  False          8727\n",
      "                       True            395\n",
      "Name: unpaid_bill, dtype: int64\n",
      "['\\\\$0 - \\\\$105200', '\\\\$105200 - \\\\$164400', '\\\\$164400 - \\\\$205200', '\\\\$205200 - \\\\$237900', '\\\\$237900 - \\\\$269300', '\\\\$269300 - \\\\$304300', '\\\\$304300 - \\\\$350200', '\\\\$350200 - \\\\$420200', '\\\\$420200 - \\\\$561300', '\\\\$561300 - \\\\$8505800']\n"
     ]
    },
    {
     "name": "stderr",
     "output_type": "stream",
     "text": [
      "/var/folders/hy/304lry6j4sbbkk4_rs_vfdw80000gn/T/ipykernel_57919/3207939747.py:40: UserWarning: FixedFormatter should only be used together with FixedLocator\n",
      "  ax.set_yticklabels(['{:,.0%}'.format(x) for x in ax.get_yticks()])\n"
     ]
    },
    {
     "data": {
      "image/png": "[encoded data removed]",
      "text/plain": [
       "<Figure size 432x288 with 1 Axes>"
      ]
     },
     "metadata": {},
     "output_type": "display_data"
    }
   ],
   "source": [
    "# Doing the same thing here for all deciles\n",
    "deciles = parcels['TaxValue'].quantile([0,0.1, 0.2,0.3, 0.4,0.5, 0.6,0.7, 0.8,0.9, 1])\n",
    "parcels['TaxVal_deciles'] = pd.cut(parcels['TaxValue'], deciles)\n",
    "\n",
    "\n",
    "grouped_deciles = parcels.groupby('TaxVal_deciles')\n",
    "\n",
    "# Get the raw number of true 'unpaid_bill' variables in each decile\n",
    "raw_counts_deciles = grouped_deciles['unpaid_bill'].sum()\n",
    "\n",
    "# Get the total number of records in each decile\n",
    "total_counts_deciles = grouped_deciles['TaxValue'].count()\n",
    "\n",
    "# Get the ratio of true 'unpaid_bill' variables in each decile\n",
    "ratio_deciles = raw_counts_deciles / total_counts_deciles\n",
    "print('Deciles\\n --------')\n",
    "print('Raw totals:')\n",
    "print(raw_counts_deciles)\n",
    "print('\\n --------')\n",
    "print('Total_counts:')\n",
    "print(total_counts_deciles)\n",
    "print('\\n --------')\n",
    "print('rate raw_counts / total_counts:')\n",
    "print(ratio_deciles)\n",
    "\n",
    "print(parcels.groupby('TaxVal_deciles')['unpaid_bill'].value_counts(dropna=False))\n",
    "decile_rates=parcels.groupby('TaxVal_deciles')['unpaid_bill'].agg(['count', 'sum', 'mean']).reset_index()\n",
    "\n",
    "\n",
    "# Modify the x-axis labels\n",
    "\n",
    "\n",
    "\n",
    "\n",
    "fig, ax = plt.subplots(facecolor='#E5E5E5') #set figure background color to a light gray (#E5E5E5)\n",
    "decile_rates.plot.bar(x='TaxVal_deciles', y='mean', rot=0,ax=ax)\n",
    "x_labels = [f\"\\${int(i.left)} - \\${int(i.right)}\" for i in parcels['TaxVal_deciles'].cat.categories]\n",
    "print(x_labels)\n",
    "ax.set_xticklabels(x_labels,rotation=60)\n",
    "ax.set_yticklabels(['{:,.0%}'.format(x) for x in ax.get_yticks()])\n",
    "\n",
    "ax.legend([\"Decile's 2022 rate of homes\\nwith unpaid property bills\"]);\n",
    "\n",
    "plt.xlabel(\"Taxable Value Deciles\")\n",
    "\n",
    "plt.ylabel(\"Percent of Homes with Unpaid Property Bill\")\n",
    "\n",
    "plt.savefig('images/unpaid_property_bill_decile_rates.png', dpi=300,bbox_inches='tight')"
   ]
  },
  {
   "cell_type": "code",
   "execution_count": null,
   "id": "55fa2a70",
   "metadata": {},
   "outputs": [],
   "source": []
  },
  {
   "cell_type": "code",
   "execution_count": 660,
   "id": "cacc43e9",
   "metadata": {},
   "outputs": [],
   "source": [
    "# merged_data.plot(column='unpaid_bill',legend=True);"
   ]
  },
  {
   "cell_type": "code",
   "execution_count": 661,
   "id": "60c3b2ef",
   "metadata": {},
   "outputs": [
    {
     "name": "stderr",
     "output_type": "stream",
     "text": [
      "/opt/anaconda3/envs/geppandas_stats/lib/python3.9/site-packages/pyproj/crs/crs.py:53: FutureWarning: '+init=<authority>:<code>' syntax is deprecated. '<authority>:<code>' is the preferred initialization method. When making the change, be mindful of axis order changes: https://pyproj4.github.io/pyproj/stable/gotchas.html#axis-order-changes-in-proj-6\n",
      "  return _prepare_from_string(\" \".join(pjargs))\n",
      "/opt/anaconda3/envs/geppandas_stats/lib/python3.9/site-packages/pyproj/crs/crs.py:53: FutureWarning: '+init=<authority>:<code>' syntax is deprecated. '<authority>:<code>' is the preferred initialization method. When making the change, be mindful of axis order changes: https://pyproj4.github.io/pyproj/stable/gotchas.html#axis-order-changes-in-proj-6\n",
      "  return _prepare_from_string(\" \".join(pjargs))\n"
     ]
    },
    {
     "name": "stdout",
     "output_type": "stream",
     "text": [
      "81924\n",
      "Index(['PIN', 'Owner', 'NmpType', 'TaxYear_x', 'CondoUnit', 'CondoBuild',\n",
      "       'DeedBook', 'DeedPage', 'PlatBook', 'PlatPage',\n",
      "       ...\n",
      "       'median_house_value', 'NAME', 'state_right', 'county', 'tract',\n",
      "       'pct_rented', 'pct_hh_female', 'pct_bachelor', 'pct_white',\n",
      "       'TotalVal_quintile'],\n",
      "      dtype='object', length=199)\n",
      "111111111111111\n",
      "Index(['geometry', 'objectid', 'jurisdiction_type', 'label', 'st_squaremiles',\n",
      "       'st_acreage', 'st_areashape', 'st_lengthshape'],\n",
      "      dtype='object')\n",
      "27610\n"
     ]
    }
   ],
   "source": [
    "ash_city = gpd.read_file('data/Asheville_City_Limits.geojson')\n",
    "\n",
    "\n",
    "crs = {'init': 'epsg:4326'}\n",
    "\n",
    "\n",
    "ash_city = ash_city.to_crs(crs)\n",
    "# Convert both parcels and tracts to the same CRS\n",
    "merged_data = merged_data.to_crs(crs)\n",
    "ash_city = ash_city.dissolve()\n",
    "# All the parcels that intersect Asheville\n",
    "print(len(merged_data))\n",
    "# ash_city = ash_city.reset_index().rename(columns={'index': 'index_left'})\n",
    "print(merged_data.columns)\n",
    "print('111111111111111')\n",
    "print(ash_city.columns)      \n",
    "merged_data = merged_data.reset_index().rename(columns={'index_right': 'index_rrrright'})\n",
    "\n",
    "ash_city_parcels = gpd.sjoin(merged_data, ash_city, how=\"inner\", op='intersects')\n",
    "print(len(ash_city_parcels))"
   ]
  },
  {
   "cell_type": "code",
   "execution_count": 662,
   "id": "946be406",
   "metadata": {},
   "outputs": [
    {
     "name": "stderr",
     "output_type": "stream",
     "text": [
      "/var/folders/hy/304lry6j4sbbkk4_rs_vfdw80000gn/T/ipykernel_57919/2516355585.py:4: UserWarning: CRS mismatch between the CRS of left geometries and the CRS of right geometries.\n",
      "Use `to_crs()` to reproject one of the input geometries to match the CRS of the other.\n",
      "\n",
      "Left CRS: +init=epsg:4326 +type=crs\n",
      "Right CRS: EPSG:4326\n",
      "\n",
      "  ash_city_parcels_boros = gpd.sjoin(merged_data, ash_boros, how=\"inner\", op='intersects')\n"
     ]
    },
    {
     "data": {
      "text/plain": [
       "Oakley                 1905\n",
       "Beaverdam Valley       1834\n",
       "East West Asheville    1713\n",
       "Shiloh                 1452\n",
       "Kenilworth             1043\n",
       "                       ... \n",
       "North Downtown            9\n",
       "Deaverview                6\n",
       "Bartlett Arms Apts        4\n",
       "Livingston Heights        3\n",
       "Erskine-Walton            2\n",
       "Name: name, Length: 74, dtype: int64"
      ]
     },
     "execution_count": 662,
     "metadata": {},
     "output_type": "execute_result"
    }
   ],
   "source": [
    "# ash_city_parcels[ash_city_parcels['unpaid_bill'] ==True]\n",
    "ash_boros = gpd.read_file('data/Asheville_Neighborhoods.geojson')\n",
    "\n",
    "ash_city_parcels_boros = gpd.sjoin(merged_data, ash_boros, how=\"inner\", op='intersects')\n",
    "\n",
    "\n",
    "\n",
    "ash_city_parcels_boros['name'].value_counts(dropna=False)\n"
   ]
  },
  {
   "cell_type": "code",
   "execution_count": 663,
   "id": "166587df",
   "metadata": {},
   "outputs": [
    {
     "data": {
      "text/plain": [
       "Oakley                 1905\n",
       "Beaverdam Valley       1834\n",
       "East West Asheville    1713\n",
       "Shiloh                 1452\n",
       "Kenilworth             1043\n",
       "                       ... \n",
       "North Downtown            9\n",
       "Deaverview                6\n",
       "Bartlett Arms Apts        4\n",
       "Livingston Heights        3\n",
       "Erskine-Walton            2\n",
       "Name: name, Length: 74, dtype: int64"
      ]
     },
     "execution_count": 663,
     "metadata": {},
     "output_type": "execute_result"
    }
   ],
   "source": [
    "ash_city_parcels_boros_of_interest = ash_city_parcels_boros[ash_city_parcels_boros['name'].str.contains('Brucemont', case=False) | ash_city_parcels_boros['name'].str.contains('Burton', case=False) | ash_city_parcels_boros['name'].str.contains('shiloh', case=False)] \n",
    "ash_city_parcels_boros['name'].value_counts(dropna=False)"
   ]
  },
  {
   "cell_type": "code",
   "execution_count": null,
   "id": "a426e806",
   "metadata": {},
   "outputs": [],
   "source": []
  },
  {
   "cell_type": "code",
   "execution_count": 664,
   "id": "f7c256c9",
   "metadata": {},
   "outputs": [],
   "source": [
    "\n",
    "# merged_data[merged_data['SubName']=='BILTMORE FOREST'].plot(column='SubName',legend=True);\n",
    "\n",
    "\n",
    "# Sam neighborhoods as shown here at 16:46\n",
    "# https://www.youtube.com/watch?v=RB_X7FFXQ3k&t=1004s&ab_channel=Urban3\n",
    "biltmore_forest = merged_data[merged_data['SubName']=='BILTMORE FOREST']\n",
    "pacrcels_for_map = result = pd.concat([biltmore_forest, ash_city_parcels_boros_of_interest])"
   ]
  },
  {
   "cell_type": "code",
   "execution_count": 665,
   "id": "0e8ed358",
   "metadata": {},
   "outputs": [
    {
     "ename": "SyntaxError",
     "evalue": "invalid syntax (1755106605.py, line 66)",
     "output_type": "error",
     "traceback": [
      "\u001b[0;36m  Input \u001b[0;32mIn [665]\u001b[0;36m\u001b[0m\n\u001b[0;31m    Shiloh                  1452\u001b[0m\n\u001b[0m                            ^\u001b[0m\n\u001b[0;31mSyntaxError\u001b[0m\u001b[0;31m:\u001b[0m invalid syntax\n"
     ]
    }
   ],
   "source": [
    "# https://deckgl.readthedocs.io/en/latest/layer.html#example-vancouver-property-values\n",
    "\n",
    "# running this polygon 3d layer map makes this file too big for github\n",
    "\n",
    "\n",
    "import pydeck\n",
    "\n",
    "\n",
    "pacrcels_for_map['name'] = pacrcels_for_map['name'].fillna(pacrcels_for_map['SubName'])\n",
    "\n",
    "print(pacrcels_for_map['name'].value_counts(dropna=False))\n",
    "# Calculate the centroid of disolved parcels\n",
    "# https://stackoverflow.com/questions/59979424/pydeck-r-show-outputs-typeerror-vars-argument-must-have-dict-attribute\n",
    "merged_data_j = gpd.read_file(pacrcels_for_map[['name','geometry','total_value_pct_change','unpaid_bill','Address','PIN']].to_json())\n",
    "\n",
    "dis_merged_data_centroid = merged_data_j.dissolve().centroid\n",
    "# Extract the latitude and longitude of each centroid\n",
    "print(float(dis_parcels_centroid.y))\n",
    "print(float(dis_parcels_centroid.x))\n",
    "INITIAL_VIEW_STATE = pydeck.ViewState(\n",
    "  latitude=float(dis_parcels_centroid.y)-.065,\n",
    "  longitude=float(dis_parcels_centroid.x)-.01,\n",
    "  zoom=12.5,\n",
    "  max_zoom=16,\n",
    "  pitch=45,\n",
    "  bearing=20\n",
    ")\n",
    "\n",
    "geojson = pydeck.Layer(\n",
    "    'GeoJsonLayer',\n",
    "    data=merged_data_j,\n",
    "    opacity=0.8,\n",
    "    stroked=False,\n",
    "    filled=True,\n",
    "    extruded=True,\n",
    "    wireframe=True,\n",
    "    \n",
    "    get_elevation='total_value_pct_change',\n",
    "#     get_fill_color='unpaid_bill',\n",
    "    get_fill_color=\"\"\"(unpaid_bill === true) ? [255, 102, 102] :\n",
    "    (name === 'BILTMORE FOREST') ? [102, 102, 255] :\n",
    "    (name === 'Shiloh') ? [102,255 , 102] :\n",
    "    (name === 'Burton Street') ? [102, 178, 255] :\n",
    "    (name === 'Brucemont/Louisiana') ? [255, 255, 153] :[255, 255, 153]\"\"\" , \n",
    "    get_line_color=\"\"\"(unpaid_bill === true) ? [255, 102, 102] :\n",
    "    (name === 'BILTMORE FOREST') ? [102, 102, 255] :\n",
    "    (name === 'Shiloh') ? [102,255 , 102] :\n",
    "    (name === 'Burton Street') ? [255, 178, 255] :\n",
    "    (name === 'Brucemont/Louisiana') ? [255, 255, 153] :[255, 255, 153]\"\"\" , \n",
    "    \n",
    "#     'unpaid_bill === true ? [225,0,0] : [225,225,0]\"\"\" ,\n",
    "    \n",
    "#     get_line_color=[255, 255, 255],\n",
    "    get_line_width= 0,\n",
    "    pickable=True\n",
    ")\n",
    "\n",
    "r = pydeck.Deck(\n",
    "    layers=[\n",
    "#         polygon, \n",
    "        geojson],\n",
    "    initial_view_state=INITIAL_VIEW_STATE)\n",
    "\n",
    "\n",
    "\n",
    "Shiloh                  1452\n",
    "BILTMORE FOREST          535\n",
    "Burton Street            287\n",
    "Brucemont/Louisiana      213\n",
    "\n",
    "r.to_html(filename='unpaid_property_bill_map.html')"
   ]
  },
  {
   "cell_type": "code",
   "execution_count": null,
   "id": "75d71f05",
   "metadata": {},
   "outputs": [],
   "source": []
  },
  {
   "cell_type": "code",
   "execution_count": null,
   "id": "59c3e5f3",
   "metadata": {},
   "outputs": [],
   "source": []
  },
  {
   "cell_type": "code",
   "execution_count": null,
   "id": "e2bb2c95",
   "metadata": {},
   "outputs": [],
   "source": []
  },
  {
   "cell_type": "code",
   "execution_count": null,
   "id": "068065bc",
   "metadata": {},
   "outputs": [],
   "source": []
  },
  {
   "cell_type": "code",
   "execution_count": null,
   "id": "f46cbb56",
   "metadata": {},
   "outputs": [],
   "source": []
  },
  {
   "cell_type": "code",
   "execution_count": null,
   "id": "9b249c38",
   "metadata": {},
   "outputs": [],
   "source": []
  },
  {
   "cell_type": "code",
   "execution_count": null,
   "id": "a9c46415",
   "metadata": {},
   "outputs": [],
   "source": []
  }
 ],
 "metadata": {
  "kernelspec": {
   "display_name": "Python 3 (ipykernel)",
   "language": "python",
   "name": "python3"
  },
  "language_info": {
   "codemirror_mode": {
    "name": "ipython",
    "version": 3
   },
   "file_extension": ".py",
   "mimetype": "text/x-python",
   "name": "python",
   "nbconvert_exporter": "python",
   "pygments_lexer": "ipython3",
   "version": "3.9.16"
  }
 },
 "nbformat": 4,
 "nbformat_minor": 5
}
